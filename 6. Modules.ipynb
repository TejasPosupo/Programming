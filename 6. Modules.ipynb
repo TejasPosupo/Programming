{
 "cells": [
  {
   "cell_type": "code",
   "execution_count": 1,
   "id": "5f979751",
   "metadata": {},
   "outputs": [],
   "source": [
    "import Modules"
   ]
  },
  {
   "cell_type": "code",
   "execution_count": 2,
   "id": "79126877",
   "metadata": {},
   "outputs": [
    {
     "name": "stdout",
     "output_type": "stream",
     "text": [
      "30\n"
     ]
    }
   ],
   "source": [
    "Modules.add()"
   ]
  },
  {
   "cell_type": "code",
   "execution_count": 3,
   "id": "0179310b",
   "metadata": {},
   "outputs": [
    {
     "name": "stdout",
     "output_type": "stream",
     "text": [
      "-10\n"
     ]
    }
   ],
   "source": [
    "Modules.sub()"
   ]
  },
  {
   "cell_type": "code",
   "execution_count": 5,
   "id": "ecd28a7b",
   "metadata": {},
   "outputs": [
    {
     "name": "stdout",
     "output_type": "stream",
     "text": [
      "200\n"
     ]
    }
   ],
   "source": [
    "Modules.mul()"
   ]
  },
  {
   "cell_type": "code",
   "execution_count": null,
   "id": "5b27a9d3",
   "metadata": {},
   "outputs": [],
   "source": []
  }
 ],
 "metadata": {
  "kernelspec": {
   "display_name": "Python 3 (ipykernel)",
   "language": "python",
   "name": "python3"
  },
  "language_info": {
   "codemirror_mode": {
    "name": "ipython",
    "version": 3
   },
   "file_extension": ".py",
   "mimetype": "text/x-python",
   "name": "python",
   "nbconvert_exporter": "python",
   "pygments_lexer": "ipython3",
   "version": "3.9.13"
  },
  "toc": {
   "base_numbering": 1,
   "nav_menu": {},
   "number_sections": true,
   "sideBar": true,
   "skip_h1_title": false,
   "title_cell": "Table of Contents",
   "title_sidebar": "Contents",
   "toc_cell": false,
   "toc_position": {},
   "toc_section_display": true,
   "toc_window_display": false
  }
 },
 "nbformat": 4,
 "nbformat_minor": 5
}
