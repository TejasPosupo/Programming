{
 "cells": [
  {
   "cell_type": "code",
   "execution_count": 1,
   "id": "8ed5866e",
   "metadata": {},
   "outputs": [],
   "source": [
    "# Positional arguments \n",
    "\n",
    "def power_of(a,b):\n",
    "    c = a**b\n",
    "    print(c)"
   ]
  },
  {
   "cell_type": "code",
   "execution_count": 2,
   "id": "b2b22362",
   "metadata": {},
   "outputs": [
    {
     "name": "stdout",
     "output_type": "stream",
     "text": [
      "32\n"
     ]
    }
   ],
   "source": [
    "power_of(2,5)"
   ]
  },
  {
   "cell_type": "code",
   "execution_count": 3,
   "id": "df808936",
   "metadata": {},
   "outputs": [
    {
     "name": "stdout",
     "output_type": "stream",
     "text": [
      "25\n"
     ]
    }
   ],
   "source": [
    "power_of(5,2)"
   ]
  },
  {
   "cell_type": "code",
   "execution_count": 4,
   "id": "a8769127",
   "metadata": {},
   "outputs": [
    {
     "ename": "TypeError",
     "evalue": "power_of() missing 1 required positional argument: 'b'",
     "output_type": "error",
     "traceback": [
      "\u001b[1;31m---------------------------------------------------------------------------\u001b[0m",
      "\u001b[1;31mTypeError\u001b[0m                                 Traceback (most recent call last)",
      "\u001b[1;32m~\\AppData\\Local\\Temp\\ipykernel_3524\\3655346680.py\u001b[0m in \u001b[0;36m<module>\u001b[1;34m\u001b[0m\n\u001b[1;32m----> 1\u001b[1;33m \u001b[0mpower_of\u001b[0m\u001b[1;33m(\u001b[0m\u001b[1;36m2\u001b[0m\u001b[1;33m)\u001b[0m\u001b[1;33m\u001b[0m\u001b[1;33m\u001b[0m\u001b[0m\n\u001b[0m",
      "\u001b[1;31mTypeError\u001b[0m: power_of() missing 1 required positional argument: 'b'"
     ]
    }
   ],
   "source": [
    "power_of(2)"
   ]
  },
  {
   "cell_type": "code",
   "execution_count": 5,
   "id": "0dc79f85",
   "metadata": {},
   "outputs": [],
   "source": [
    "# Default arguments\n",
    "\n",
    "def power_of(a, b=0):\n",
    "    c = a**b\n",
    "    print(c)\n"
   ]
  },
  {
   "cell_type": "code",
   "execution_count": 6,
   "id": "5cf6bd5c",
   "metadata": {},
   "outputs": [
    {
     "name": "stdout",
     "output_type": "stream",
     "text": [
      "32\n"
     ]
    }
   ],
   "source": [
    "power_of(2,5)"
   ]
  },
  {
   "cell_type": "code",
   "execution_count": 7,
   "id": "b5fc2829",
   "metadata": {},
   "outputs": [
    {
     "name": "stdout",
     "output_type": "stream",
     "text": [
      "1\n"
     ]
    }
   ],
   "source": [
    "power_of(2)"
   ]
  },
  {
   "cell_type": "code",
   "execution_count": 8,
   "id": "03b02162",
   "metadata": {},
   "outputs": [
    {
     "ename": "SyntaxError",
     "evalue": "non-default argument follows default argument (3647599803.py, line 1)",
     "output_type": "error",
     "traceback": [
      "\u001b[1;36m  File \u001b[1;32m\"C:\\Users\\tejas\\AppData\\Local\\Temp\\ipykernel_3524\\3647599803.py\"\u001b[1;36m, line \u001b[1;32m1\u001b[0m\n\u001b[1;33m    def power_of(a,b=0,x):\u001b[0m\n\u001b[1;37m                        ^\u001b[0m\n\u001b[1;31mSyntaxError\u001b[0m\u001b[1;31m:\u001b[0m non-default argument follows default argument\n"
     ]
    }
   ],
   "source": [
    "def power_of(a,b=0,x):\n",
    "    c = a*b*x\n",
    "    print(c)\n",
    "    \n",
    "'''As the message reflected , non-default argument cannot follow default argument. but certainly after positional arguments we \n",
    "can have as many default arguments as possible.'''"
   ]
  },
  {
   "cell_type": "code",
   "execution_count": 15,
   "id": "b64c7923",
   "metadata": {},
   "outputs": [],
   "source": [
    "def mul(x,a,b=1):\n",
    "    c = a*b*x\n",
    "    print(c)"
   ]
  },
  {
   "cell_type": "code",
   "execution_count": 16,
   "id": "5db6baee",
   "metadata": {},
   "outputs": [
    {
     "name": "stdout",
     "output_type": "stream",
     "text": [
      "40\n"
     ]
    }
   ],
   "source": [
    "mul(2,4,5)"
   ]
  },
  {
   "cell_type": "code",
   "execution_count": 17,
   "id": "53c2a5a0",
   "metadata": {},
   "outputs": [
    {
     "name": "stdout",
     "output_type": "stream",
     "text": [
      "6\n"
     ]
    }
   ],
   "source": [
    "mul(2,3)"
   ]
  },
  {
   "cell_type": "code",
   "execution_count": 18,
   "id": "a448329e",
   "metadata": {},
   "outputs": [],
   "source": [
    "# Variable length orguments\n",
    "'''Passing any number of arguments to a funtion is called as variable length argument.'''\n",
    "def pizza_toppings(toppings):\n",
    "    print(toppings)"
   ]
  },
  {
   "cell_type": "code",
   "execution_count": 20,
   "id": "2d99601b",
   "metadata": {},
   "outputs": [
    {
     "name": "stdout",
     "output_type": "stream",
     "text": [
      "cheese\n"
     ]
    }
   ],
   "source": [
    "pizza_toppings(\"cheese\")"
   ]
  },
  {
   "cell_type": "code",
   "execution_count": 21,
   "id": "65a447e7",
   "metadata": {},
   "outputs": [
    {
     "ename": "TypeError",
     "evalue": "pizza_toppings() takes 1 positional argument but 2 were given",
     "output_type": "error",
     "traceback": [
      "\u001b[1;31m---------------------------------------------------------------------------\u001b[0m",
      "\u001b[1;31mTypeError\u001b[0m                                 Traceback (most recent call last)",
      "\u001b[1;32m~\\AppData\\Local\\Temp\\ipykernel_3524\\1544614865.py\u001b[0m in \u001b[0;36m<module>\u001b[1;34m\u001b[0m\n\u001b[1;32m----> 1\u001b[1;33m \u001b[0mpizza_toppings\u001b[0m\u001b[1;33m(\u001b[0m\u001b[1;34m\"cheese\"\u001b[0m\u001b[1;33m,\u001b[0m\u001b[1;34m\"onion\"\u001b[0m\u001b[1;33m)\u001b[0m\u001b[1;33m\u001b[0m\u001b[1;33m\u001b[0m\u001b[0m\n\u001b[0m",
      "\u001b[1;31mTypeError\u001b[0m: pizza_toppings() takes 1 positional argument but 2 were given"
     ]
    }
   ],
   "source": [
    "pizza_toppings(\"cheese\",\"onion\")\n"
   ]
  },
  {
   "cell_type": "code",
   "execution_count": 11,
   "id": "181dc46f",
   "metadata": {},
   "outputs": [],
   "source": [
    "def pizza_toppings(*toppings):\n",
    "    print(toppings)\n",
    "    print(type(toppings))\n"
   ]
  },
  {
   "cell_type": "code",
   "execution_count": 13,
   "id": "d74c9b61",
   "metadata": {},
   "outputs": [
    {
     "name": "stdout",
     "output_type": "stream",
     "text": [
      "('cheese', 'onion', 'olives', 'corn')\n",
      "<class 'tuple'>\n"
     ]
    }
   ],
   "source": [
    "pizza_toppings(\"cheese\",\"onion\",\"olives\",\"corn\")"
   ]
  },
  {
   "cell_type": "code",
   "execution_count": 14,
   "id": "78ef9af3",
   "metadata": {},
   "outputs": [
    {
     "ename": "TypeError",
     "evalue": "pizza_toppings() missing 1 required keyword-only argument: 'crust'",
     "output_type": "error",
     "traceback": [
      "\u001b[1;31m---------------------------------------------------------------------------\u001b[0m",
      "\u001b[1;31mTypeError\u001b[0m                                 Traceback (most recent call last)",
      "\u001b[1;32m~\\AppData\\Local\\Temp\\ipykernel_9344\\1705576071.py\u001b[0m in \u001b[0;36m<module>\u001b[1;34m\u001b[0m\n\u001b[0;32m      2\u001b[0m     \u001b[0mprint\u001b[0m\u001b[1;33m(\u001b[0m\u001b[0mtoppings\u001b[0m\u001b[1;33m)\u001b[0m\u001b[1;33m\u001b[0m\u001b[1;33m\u001b[0m\u001b[0m\n\u001b[0;32m      3\u001b[0m     \u001b[0mprint\u001b[0m\u001b[1;33m(\u001b[0m\u001b[0mcrust\u001b[0m\u001b[1;33m)\u001b[0m\u001b[1;33m\u001b[0m\u001b[1;33m\u001b[0m\u001b[0m\n\u001b[1;32m----> 4\u001b[1;33m \u001b[0mpizza_toppings\u001b[0m\u001b[1;33m(\u001b[0m\u001b[1;34m'cheese'\u001b[0m\u001b[1;33m,\u001b[0m\u001b[1;34m\"thin\"\u001b[0m\u001b[1;33m)\u001b[0m\u001b[1;33m\u001b[0m\u001b[1;33m\u001b[0m\u001b[0m\n\u001b[0m",
      "\u001b[1;31mTypeError\u001b[0m: pizza_toppings() missing 1 required keyword-only argument: 'crust'"
     ]
    }
   ],
   "source": [
    "def pizza_toppings(*toppings,crust):\n",
    "    print(toppings)\n",
    "    print(crust)\n",
    "pizza_toppings('cheese',\"thin\")"
   ]
  },
  {
   "cell_type": "code",
   "execution_count": 15,
   "id": "dc3a7584",
   "metadata": {},
   "outputs": [
    {
     "name": "stdout",
     "output_type": "stream",
     "text": [
      "('cheese',)\n",
      "thin\n"
     ]
    }
   ],
   "source": [
    "def pizza_toppings(*toppings,crust):\n",
    "    print(toppings)\n",
    "    print(crust)\n",
    "pizza_toppings('cheese',crust=\"thin\")"
   ]
  },
  {
   "cell_type": "code",
   "execution_count": 16,
   "id": "3c857577",
   "metadata": {},
   "outputs": [
    {
     "name": "stdout",
     "output_type": "stream",
     "text": [
      "('rohit', 28, 60.6, 'M')\n"
     ]
    }
   ],
   "source": [
    "def collect_student_data(*data):\n",
    "    print(data)\n",
    "collect_student_data(\"rohit\",28,60.6,'M')    "
   ]
  },
  {
   "cell_type": "code",
   "execution_count": 17,
   "id": "e564ee75",
   "metadata": {},
   "outputs": [
    {
     "ename": "TypeError",
     "evalue": "collect_student_data() got an unexpected keyword argument 'name'",
     "output_type": "error",
     "traceback": [
      "\u001b[1;31m---------------------------------------------------------------------------\u001b[0m",
      "\u001b[1;31mTypeError\u001b[0m                                 Traceback (most recent call last)",
      "\u001b[1;32m~\\AppData\\Local\\Temp\\ipykernel_9344\\3758833700.py\u001b[0m in \u001b[0;36m<module>\u001b[1;34m\u001b[0m\n\u001b[0;32m      1\u001b[0m \u001b[1;32mdef\u001b[0m \u001b[0mcollect_student_data\u001b[0m\u001b[1;33m(\u001b[0m\u001b[1;33m*\u001b[0m\u001b[0mdata\u001b[0m\u001b[1;33m)\u001b[0m\u001b[1;33m:\u001b[0m\u001b[1;33m\u001b[0m\u001b[1;33m\u001b[0m\u001b[0m\n\u001b[0;32m      2\u001b[0m     \u001b[0mprint\u001b[0m\u001b[1;33m(\u001b[0m\u001b[0mdata\u001b[0m\u001b[1;33m)\u001b[0m\u001b[1;33m\u001b[0m\u001b[1;33m\u001b[0m\u001b[0m\n\u001b[1;32m----> 3\u001b[1;33m \u001b[0mcollect_student_data\u001b[0m\u001b[1;33m(\u001b[0m\u001b[0mname\u001b[0m \u001b[1;33m=\u001b[0m \u001b[1;34m\"rohit\"\u001b[0m\u001b[1;33m,\u001b[0m\u001b[0mage\u001b[0m \u001b[1;33m=\u001b[0m \u001b[1;36m28\u001b[0m\u001b[1;33m,\u001b[0m\u001b[0mheight\u001b[0m \u001b[1;33m=\u001b[0m \u001b[1;36m60.6\u001b[0m\u001b[1;33m,\u001b[0m\u001b[0mGender\u001b[0m \u001b[1;33m=\u001b[0m \u001b[1;34m'M'\u001b[0m\u001b[1;33m)\u001b[0m\u001b[1;33m\u001b[0m\u001b[1;33m\u001b[0m\u001b[0m\n\u001b[0m",
      "\u001b[1;31mTypeError\u001b[0m: collect_student_data() got an unexpected keyword argument 'name'"
     ]
    }
   ],
   "source": [
    "def collect_student_data(*data):\n",
    "    print(data)\n",
    "collect_student_data(name = \"rohit\",age = 28,height = 60.6,Gender = 'M')"
   ]
  },
  {
   "cell_type": "code",
   "execution_count": 18,
   "id": "8298ed10",
   "metadata": {},
   "outputs": [
    {
     "name": "stdout",
     "output_type": "stream",
     "text": [
      "{'name': 'rohit', 'age': 28, 'height': 60.6, 'Gender': 'M'}\n"
     ]
    }
   ],
   "source": [
    "def collect_student_data(**data):\n",
    "    print(data)\n",
    "collect_student_data(name = \"rohit\",age = 28,height = 60.6,Gender = 'M')"
   ]
  },
  {
   "cell_type": "code",
   "execution_count": null,
   "id": "3322d9d5",
   "metadata": {},
   "outputs": [],
   "source": []
  }
 ],
 "metadata": {
  "kernelspec": {
   "display_name": "Python 3 (ipykernel)",
   "language": "python",
   "name": "python3"
  },
  "language_info": {
   "codemirror_mode": {
    "name": "ipython",
    "version": 3
   },
   "file_extension": ".py",
   "mimetype": "text/x-python",
   "name": "python",
   "nbconvert_exporter": "python",
   "pygments_lexer": "ipython3",
   "version": "3.9.13"
  },
  "toc": {
   "base_numbering": 1,
   "nav_menu": {},
   "number_sections": true,
   "sideBar": true,
   "skip_h1_title": false,
   "title_cell": "Table of Contents",
   "title_sidebar": "Contents",
   "toc_cell": false,
   "toc_position": {},
   "toc_section_display": true,
   "toc_window_display": false
  }
 },
 "nbformat": 4,
 "nbformat_minor": 5
}
