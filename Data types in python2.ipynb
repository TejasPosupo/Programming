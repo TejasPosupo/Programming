{
 "cells": [
  {
   "cell_type": "markdown",
   "id": "33e774af",
   "metadata": {},
   "source": [
    "- List\n",
    "- Tuple\n",
    "- Set\n",
    "- Dictionary"
   ]
  },
  {
   "cell_type": "markdown",
   "id": "7c2e5f9b",
   "metadata": {},
   "source": [
    "# List"
   ]
  },
  {
   "cell_type": "code",
   "execution_count": 3,
   "id": "87cbe9d8",
   "metadata": {},
   "outputs": [
    {
     "name": "stdout",
     "output_type": "stream",
     "text": [
      "[23, 45, 67, 89]\n",
      "<class 'list'>\n"
     ]
    }
   ],
   "source": [
    "# List (example)\n",
    "'''A list object is an ordered collection of one or more data items,not necessarily of the same type,put in square brackets.'''\n",
    "lst = [23,45,67,89]\n",
    "print(lst)\n",
    "print(type(lst))\n"
   ]
  },
  {
   "cell_type": "code",
   "execution_count": 4,
   "id": "88218c00",
   "metadata": {},
   "outputs": [
    {
     "name": "stdout",
     "output_type": "stream",
     "text": [
      "23\n",
      "23\n"
     ]
    }
   ],
   "source": [
    "''' We can access single elements from list by using positive indices or negative'''\n",
    "lst = [23,45,67,89]\n",
    "print(lst[0])\n",
    "print(lst[-4])"
   ]
  },
  {
   "cell_type": "code",
   "execution_count": 6,
   "id": "1a193ca8",
   "metadata": {},
   "outputs": [
    {
     "name": "stdout",
     "output_type": "stream",
     "text": [
      "[10, 99.9, 'python', False]\n",
      "[10, 99.9, 'python', False, 200]\n",
      "[99.9, 'python', False, 200]\n"
     ]
    }
   ],
   "source": [
    "'''List are mutable. Which means we can append elements and remove whenever needed. By using append() and remove() respectively.'''\n",
    "lst = [10,99.9,\"python\",False]\n",
    "print(lst)\n",
    "lst.append(200)\n",
    "print(lst)\n",
    "lst.remove(10)\n",
    "print(lst)"
   ]
  },
  {
   "cell_type": "markdown",
   "id": "62639bb0",
   "metadata": {},
   "source": [
    "# Tuple "
   ]
  },
  {
   "cell_type": "code",
   "execution_count": 8,
   "id": "eeaeb9f5",
   "metadata": {},
   "outputs": [
    {
     "name": "stdout",
     "output_type": "stream",
     "text": [
      "(10, 99.9, 'python', True)\n",
      "<class 'tuple'>\n",
      "10\n",
      "10\n"
     ]
    }
   ],
   "source": [
    "'''A tuple object is an ordered collection of one or more data items,not necessarily of the same type , put in parentheses.\n",
    " Like list in tuple we can access single elements with both positive and negative indicies.'''\n",
    "\n",
    "t = (10,99.9,\"python\",True)\n",
    "print(t)\n",
    "print(type(t))\n",
    "print(t[0])\n",
    "print(t[-4])"
   ]
  },
  {
   "cell_type": "code",
   "execution_count": 10,
   "id": "8ecdba57",
   "metadata": {},
   "outputs": [
    {
     "name": "stdout",
     "output_type": "stream",
     "text": [
      "(10, 99.9, 'python', True)\n"
     ]
    },
    {
     "ename": "AttributeError",
     "evalue": "'tuple' object has no attribute 'append'",
     "output_type": "error",
     "traceback": [
      "\u001b[1;31m---------------------------------------------------------------------------\u001b[0m",
      "\u001b[1;31mAttributeError\u001b[0m                            Traceback (most recent call last)",
      "\u001b[1;32m~\\AppData\\Local\\Temp\\ipykernel_1844\\498529639.py\u001b[0m in \u001b[0;36m<module>\u001b[1;34m\u001b[0m\n\u001b[0;32m      3\u001b[0m \u001b[0mt\u001b[0m \u001b[1;33m=\u001b[0m \u001b[1;33m(\u001b[0m\u001b[1;36m10\u001b[0m\u001b[1;33m,\u001b[0m\u001b[1;36m99.9\u001b[0m\u001b[1;33m,\u001b[0m\u001b[1;34m\"python\"\u001b[0m\u001b[1;33m,\u001b[0m\u001b[1;32mTrue\u001b[0m\u001b[1;33m)\u001b[0m\u001b[1;33m\u001b[0m\u001b[1;33m\u001b[0m\u001b[0m\n\u001b[0;32m      4\u001b[0m \u001b[0mprint\u001b[0m\u001b[1;33m(\u001b[0m\u001b[0mt\u001b[0m\u001b[1;33m)\u001b[0m\u001b[1;33m\u001b[0m\u001b[1;33m\u001b[0m\u001b[0m\n\u001b[1;32m----> 5\u001b[1;33m \u001b[0mt\u001b[0m\u001b[1;33m.\u001b[0m\u001b[0mappend\u001b[0m\u001b[1;33m(\u001b[0m\u001b[1;36m200\u001b[0m\u001b[1;33m)\u001b[0m\u001b[1;33m\u001b[0m\u001b[1;33m\u001b[0m\u001b[0m\n\u001b[0m\u001b[0;32m      6\u001b[0m \u001b[0mprint\u001b[0m\u001b[1;33m(\u001b[0m\u001b[0mt\u001b[0m\u001b[1;33m)\u001b[0m\u001b[1;33m\u001b[0m\u001b[1;33m\u001b[0m\u001b[0m\n",
      "\u001b[1;31mAttributeError\u001b[0m: 'tuple' object has no attribute 'append'"
     ]
    }
   ],
   "source": [
    "'''Tuple are immutable, which means we cannot append() or remove() any elements from a tuple. We get an error here'''\n",
    "\n",
    "t = (10,99.9,\"python\",True)\n",
    "print(t)\n",
    "t.append(200)\n",
    "print(t)"
   ]
  },
  {
   "cell_type": "markdown",
   "id": "77fc874d",
   "metadata": {},
   "source": [
    "# Set"
   ]
  },
  {
   "cell_type": "code",
   "execution_count": 12,
   "id": "80584213",
   "metadata": {},
   "outputs": [
    {
     "name": "stdout",
     "output_type": "stream",
     "text": [
      "{50, 20, 40, 10, 30}\n",
      "<class 'set'>\n"
     ]
    }
   ],
   "source": [
    "'''In set we cannot access single elements because internally set does not store the data in the we provide it.\n",
    "That is the reason it is called unorderd collection of data .And as it is unordered list certainly it doesn't have indices.'''\n",
    "\n",
    "S = {10,20,30,40,50}\n",
    "print(S)\n",
    "print(type(S))"
   ]
  },
  {
   "cell_type": "code",
   "execution_count": 13,
   "id": "e227e19c",
   "metadata": {},
   "outputs": [
    {
     "name": "stdout",
     "output_type": "stream",
     "text": [
      "{50, 20, 40, 10, 30}\n",
      "<class 'set'>\n"
     ]
    },
    {
     "ename": "TypeError",
     "evalue": "'set' object is not subscriptable",
     "output_type": "error",
     "traceback": [
      "\u001b[1;31m---------------------------------------------------------------------------\u001b[0m",
      "\u001b[1;31mTypeError\u001b[0m                                 Traceback (most recent call last)",
      "\u001b[1;32m~\\AppData\\Local\\Temp\\ipykernel_1844\\4008706459.py\u001b[0m in \u001b[0;36m<module>\u001b[1;34m\u001b[0m\n\u001b[0;32m      2\u001b[0m \u001b[0mprint\u001b[0m\u001b[1;33m(\u001b[0m\u001b[0mS\u001b[0m\u001b[1;33m)\u001b[0m\u001b[1;33m\u001b[0m\u001b[1;33m\u001b[0m\u001b[0m\n\u001b[0;32m      3\u001b[0m \u001b[0mprint\u001b[0m\u001b[1;33m(\u001b[0m\u001b[0mtype\u001b[0m\u001b[1;33m(\u001b[0m\u001b[0mS\u001b[0m\u001b[1;33m)\u001b[0m\u001b[1;33m)\u001b[0m\u001b[1;33m\u001b[0m\u001b[1;33m\u001b[0m\u001b[0m\n\u001b[1;32m----> 4\u001b[1;33m \u001b[0mprint\u001b[0m\u001b[1;33m(\u001b[0m\u001b[0mS\u001b[0m\u001b[1;33m[\u001b[0m\u001b[1;36m0\u001b[0m\u001b[1;33m]\u001b[0m\u001b[1;33m)\u001b[0m\u001b[1;33m\u001b[0m\u001b[1;33m\u001b[0m\u001b[0m\n\u001b[0m",
      "\u001b[1;31mTypeError\u001b[0m: 'set' object is not subscriptable"
     ]
    }
   ],
   "source": [
    "S = {10,20,30,40,50}\n",
    "print(S)\n",
    "print(type(S))\n",
    "print(S[0]) # we get an error because of no indices"
   ]
  },
  {
   "cell_type": "code",
   "execution_count": 15,
   "id": "d66db76d",
   "metadata": {},
   "outputs": [
    {
     "name": "stdout",
     "output_type": "stream",
     "text": [
      "{50, 20, 40, 10, 30}\n",
      "{50, 20, 40, 10, 60, 30}\n",
      "{50, 20, 40, 60, 30}\n",
      "{50, 20, 40, 60, 30}\n"
     ]
    }
   ],
   "source": [
    "'''Set is mutable. Which means we can add or remove the elements using add() and remove() the elements using add() and remove\n",
    "respectively. But remember that the order in which it add an element is not as we enter it'''\n",
    "S = {10,20,30,40,50}\n",
    "print(S)\n",
    "S.add(60)\n",
    "print(S)\n",
    "S.remove(10)\n",
    "print(S)\n",
    "'''No duplication. Which means the data inside set are unique. Although dupication entries will not give an error ,the entries \n",
    "will not get stored and be seen on screen'''\n",
    "S.add(20)\n",
    "print(S)"
   ]
  },
  {
   "cell_type": "markdown",
   "id": "9269c051",
   "metadata": {},
   "source": [
    "# Dictionary"
   ]
  },
  {
   "cell_type": "code",
   "execution_count": 17,
   "id": "b8a20067",
   "metadata": {},
   "outputs": [
    {
     "name": "stdout",
     "output_type": "stream",
     "text": [
      "{'Dennis Ritchie': 'c', 'James Gosling': 'Java', 'Guido Van Rossom': 'Python'}\n",
      "<class 'dict'>\n"
     ]
    }
   ],
   "source": [
    "'''A dictionary is a collection which is unordered , changeable and indexed. In python dictionaries are written with curly \n",
    "brackets, and they have keys and values. Each key will be mapped to a value'''\n",
    "d = {\"Dennis Ritchie\":\"c\",\"James Gosling\":\"Java\",\"Guido Van Rossom\":\"Python\"}\n",
    "print(d)\n",
    "print(type(d))"
   ]
  },
  {
   "cell_type": "code",
   "execution_count": 19,
   "id": "be0b1090",
   "metadata": {},
   "outputs": [
    {
     "name": "stdout",
     "output_type": "stream",
     "text": [
      "{'Dennis Ritchie': 'c', 'James Gosling': 'Java', 'Guido Van Rossom': 'Python'}\n",
      "<class 'dict'>\n",
      "{'Dennis Ritchie': 'c', 'James Gosling': 'Java', 'Guido Van Rossom': 'Python', 'Brenden Eich': 'Javascript'}\n",
      "{'Dennis Ritchie': 'c', 'James Gosling': 'Java', 'Guido Van Rossom': 'Python'}\n"
     ]
    }
   ],
   "source": [
    "'''Dictionaries are mutable- Which means we can add and remove keys. A key can be removed by using pop(). Many other operations \n",
    "can be done as well , which we shall learn in future sessions'''\n",
    "d = {\"Dennis Ritchie\":\"c\",\"James Gosling\":\"Java\",\"Guido Van Rossom\":\"Python\"}\n",
    "print(d)\n",
    "print(type(d))\n",
    "d[\"Brenden Eich\"]=\"Javascript\"\n",
    "print(d)\n",
    "d.pop(\"Brenden Eich\")\n",
    "print(d)\n"
   ]
  },
  {
   "cell_type": "code",
   "execution_count": null,
   "id": "09e652f0",
   "metadata": {},
   "outputs": [],
   "source": []
  }
 ],
 "metadata": {
  "kernelspec": {
   "display_name": "Python 3 (ipykernel)",
   "language": "python",
   "name": "python3"
  },
  "language_info": {
   "codemirror_mode": {
    "name": "ipython",
    "version": 3
   },
   "file_extension": ".py",
   "mimetype": "text/x-python",
   "name": "python",
   "nbconvert_exporter": "python",
   "pygments_lexer": "ipython3",
   "version": "3.9.13"
  }
 },
 "nbformat": 4,
 "nbformat_minor": 5
}
