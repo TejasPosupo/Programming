{
 "cells": [
  {
   "cell_type": "code",
   "execution_count": 1,
   "id": "5d38e77a",
   "metadata": {},
   "outputs": [
    {
     "name": "stdout",
     "output_type": "stream",
     "text": [
      "[12, 34, 56, 78]\n",
      "[12, 34, 56, 78]\n"
     ]
    },
    {
     "data": {
      "text/plain": [
       "False"
      ]
     },
     "execution_count": 1,
     "metadata": {},
     "output_type": "execute_result"
    }
   ],
   "source": [
    "lst = [12,34,56,78]\n",
    "lst1 = lst[:]\n",
    "print(lst)\n",
    "print(lst1)\n",
    "lst is lst1"
   ]
  },
  {
   "cell_type": "code",
   "execution_count": 2,
   "id": "0d92f69b",
   "metadata": {},
   "outputs": [
    {
     "name": "stdout",
     "output_type": "stream",
     "text": [
      "2402385492992\n"
     ]
    }
   ],
   "source": [
    "print(id(lst))"
   ]
  },
  {
   "cell_type": "code",
   "execution_count": 4,
   "id": "9c9e99d9",
   "metadata": {},
   "outputs": [
    {
     "name": "stdout",
     "output_type": "stream",
     "text": [
      "2402385492736\n"
     ]
    }
   ],
   "source": [
    "print(id(lst1))"
   ]
  },
  {
   "cell_type": "code",
   "execution_count": 5,
   "id": "49c08910",
   "metadata": {},
   "outputs": [
    {
     "name": "stdout",
     "output_type": "stream",
     "text": [
      "[12, 34, 56, 78]\n",
      "[12, 34, 56, 78]\n"
     ]
    },
    {
     "data": {
      "text/plain": [
       "False"
      ]
     },
     "execution_count": 5,
     "metadata": {},
     "output_type": "execute_result"
    }
   ],
   "source": [
    "lst = [12,34,56,78]\n",
    "lst1 = list(lst)\n",
    "print(lst)\n",
    "print(lst1)\n",
    "lst is lst1"
   ]
  },
  {
   "cell_type": "code",
   "execution_count": null,
   "id": "cf2857da",
   "metadata": {},
   "outputs": [],
   "source": []
  }
 ],
 "metadata": {
  "kernelspec": {
   "display_name": "Python 3 (ipykernel)",
   "language": "python",
   "name": "python3"
  },
  "language_info": {
   "codemirror_mode": {
    "name": "ipython",
    "version": 3
   },
   "file_extension": ".py",
   "mimetype": "text/x-python",
   "name": "python",
   "nbconvert_exporter": "python",
   "pygments_lexer": "ipython3",
   "version": "3.9.13"
  }
 },
 "nbformat": 4,
 "nbformat_minor": 5
}
