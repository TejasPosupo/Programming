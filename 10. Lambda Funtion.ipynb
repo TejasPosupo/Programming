{
 "cells": [
  {
   "cell_type": "code",
   "execution_count": 6,
   "id": "e7e98d75",
   "metadata": {},
   "outputs": [
    {
     "name": "stdout",
     "output_type": "stream",
     "text": [
      "Enter a number\n",
      "8\n",
      "8 is prime\n"
     ]
    }
   ],
   "source": [
    "# pass statement \n",
    "'''The pass statement is useful when you don't write the implementation of a function but you want to implement it in the future'''\n",
    "n = int(input(\"Enter a number\\n\"))\n",
    "\n",
    "for i in range(2,n+1):\n",
    "    if n%i ==0:\n",
    "        pass\n",
    "if i == n:\n",
    "    print(n,\"is prime\")\n",
    "else:\n",
    "    print(n,\"is not a prime\")"
   ]
  },
  {
   "cell_type": "code",
   "execution_count": 7,
   "id": "6e96f323",
   "metadata": {},
   "outputs": [
    {
     "name": "stdout",
     "output_type": "stream",
     "text": [
      "Enter a number\n",
      "8\n",
      "8 is not a prime\n"
     ]
    }
   ],
   "source": [
    "n = int(input(\"Enter a number\\n\"))\n",
    "\n",
    "for i in range(2,n+1):\n",
    "    if n%i ==0:\n",
    "        break\n",
    "if i == n:\n",
    "    print(n,\"is prime\")\n",
    "else:\n",
    "    print(n,\"is not a prime\")"
   ]
  },
  {
   "cell_type": "code",
   "execution_count": 11,
   "id": "929773e2",
   "metadata": {},
   "outputs": [
    {
     "name": "stdout",
     "output_type": "stream",
     "text": [
      "enter the value of n:\n",
      "5\n",
      "6\n",
      "15\n"
     ]
    }
   ],
   "source": [
    "# Continue statement\n",
    "even_sum,odd_sum = 0,0\n",
    "n = int((input(\"enter the value of n:\\n\")))\n",
    "for i in range(1,n+1):\n",
    "    if i%2 == 0:\n",
    "        even_sum += i\n",
    "        \n",
    "    odd_sum += i\n",
    "print(even_sum)\n",
    "print(odd_sum)\n",
    "'''There is some problem with the odd sum logic. \n",
    "That is, once we know the  number  is  even  the  odd  sum  statement  should  not  execute, \n",
    "instead ivalue  should  increment  and ifstatement  should  execute again. This is where continuestatement would fit in properly.\n",
    "'''"
   ]
  },
  {
   "cell_type": "code",
   "execution_count": 12,
   "id": "942f2ade",
   "metadata": {},
   "outputs": [
    {
     "name": "stdout",
     "output_type": "stream",
     "text": [
      "enter the value of n:\n",
      "5\n",
      "6\n",
      "9\n"
     ]
    }
   ],
   "source": [
    "even_sum,odd_sum = 0,0\n",
    "n = int((input(\"enter the value of n:\\n\")))\n",
    "for i in range(1,n+1):\n",
    "    if i%2 == 0:\n",
    "        even_sum += i\n",
    "        continue\n",
    "        \n",
    "    odd_sum += i\n",
    "print(even_sum)\n",
    "print(odd_sum)"
   ]
  },
  {
   "cell_type": "markdown",
   "id": "ecbcd8b1",
   "metadata": {},
   "source": [
    "# Lambda Funtions"
   ]
  },
  {
   "cell_type": "code",
   "execution_count": 13,
   "id": "dae93610",
   "metadata": {},
   "outputs": [
    {
     "name": "stdout",
     "output_type": "stream",
     "text": [
      "32\n"
     ]
    }
   ],
   "source": [
    "res = (lambda num,p : num**p)(2,5)\n",
    "print(res)"
   ]
  },
  {
   "cell_type": "code",
   "execution_count": 14,
   "id": "3f088e51",
   "metadata": {},
   "outputs": [
    {
     "name": "stdout",
     "output_type": "stream",
     "text": [
      "50.0\n"
     ]
    }
   ],
   "source": [
    "fun = lambda num,den : num/den\n",
    "res = fun(100,2)\n",
    "print(res)"
   ]
  },
  {
   "cell_type": "code",
   "execution_count": 19,
   "id": "4a667c0c",
   "metadata": {},
   "outputs": [
    {
     "name": "stdout",
     "output_type": "stream",
     "text": [
      "<filter object at 0x00000258CF542C70>\n"
     ]
    }
   ],
   "source": [
    "# filter() syntax--> filter(funtion,sequence)\n",
    "'''The filter() method filters the  given  sequence  with  the  help  of  a function that tests each element in the sequence \n",
    "to be true or not'''\n",
    "\n",
    "lst = [10,21,56,67,89,90]\n",
    "\n",
    "def fun(x):\n",
    "    if x%2 ==0:\n",
    "        return True\n",
    "    else:\n",
    "        return False\n",
    "even_lst = (filter(fun,lst)) # we have to convert into list\n",
    "print(even_lst)\n",
    "\n"
   ]
  },
  {
   "cell_type": "code",
   "execution_count": 20,
   "id": "ce7e93f9",
   "metadata": {},
   "outputs": [
    {
     "name": "stdout",
     "output_type": "stream",
     "text": [
      "[10, 56, 90]\n"
     ]
    }
   ],
   "source": [
    "lst = [10,21,56,67,89,90]\n",
    "\n",
    "def fun(x):\n",
    "    if x%2 ==0:\n",
    "        return True\n",
    "    else:\n",
    "        return False\n",
    "\n",
    "even_lst = list(filter(fun,lst)) # list conversion \n",
    "print(even_lst)\n"
   ]
  },
  {
   "cell_type": "code",
   "execution_count": 22,
   "id": "6180e772",
   "metadata": {},
   "outputs": [
    {
     "name": "stdout",
     "output_type": "stream",
     "text": [
      "[10, 56, 90]\n"
     ]
    }
   ],
   "source": [
    "lst = [10,21,56,67,89,90]\n",
    "result = list(filter(lambda x : x%2==0,lst))\n",
    "print(result)"
   ]
  },
  {
   "cell_type": "code",
   "execution_count": 23,
   "id": "1c86357d",
   "metadata": {},
   "outputs": [
    {
     "name": "stdout",
     "output_type": "stream",
     "text": [
      "26\n"
     ]
    }
   ],
   "source": [
    "# Reduce()\n",
    "\n",
    "'''Thereduce()function is used to apply a particular function passed in its  argument  to  all  of  the  list  elements \n",
    "mentioned  in  the  sequence passed along. This function is defined in “functools”module'''\n",
    "\n",
    "# syntax     reduce(funtion,sequence)\n",
    "\n",
    "from  functools import reduce\n",
    "\n",
    "lst = [1,3,4,5,6,7]\n",
    "def fun(x,y):\n",
    "    return x+y\n",
    "res = reduce(fun,lst)\n",
    "print(res)\n",
    "\n"
   ]
  },
  {
   "cell_type": "code",
   "execution_count": 24,
   "id": "64caefd4",
   "metadata": {},
   "outputs": [
    {
     "name": "stdout",
     "output_type": "stream",
     "text": [
      "26\n"
     ]
    }
   ],
   "source": [
    "lst = [1,3,4,5,6,7]\n",
    "result = reduce(lambda x,y : x+y,lst)\n",
    "print(result)"
   ]
  },
  {
   "cell_type": "code",
   "execution_count": null,
   "id": "b2a54d58",
   "metadata": {},
   "outputs": [],
   "source": [
    "# map()\n",
    "'''function returns amapobjectof the results after applying the given function to each item of a given sequence(list,\n",
    "tuple etc.)'''"
   ]
  }
 ],
 "metadata": {
  "kernelspec": {
   "display_name": "Python 3 (ipykernel)",
   "language": "python",
   "name": "python3"
  },
  "language_info": {
   "codemirror_mode": {
    "name": "ipython",
    "version": 3
   },
   "file_extension": ".py",
   "mimetype": "text/x-python",
   "name": "python",
   "nbconvert_exporter": "python",
   "pygments_lexer": "ipython3",
   "version": "3.9.13"
  },
  "toc": {
   "base_numbering": 1,
   "nav_menu": {},
   "number_sections": true,
   "sideBar": true,
   "skip_h1_title": false,
   "title_cell": "Table of Contents",
   "title_sidebar": "Contents",
   "toc_cell": false,
   "toc_position": {},
   "toc_section_display": true,
   "toc_window_display": false
  }
 },
 "nbformat": 4,
 "nbformat_minor": 5
}
