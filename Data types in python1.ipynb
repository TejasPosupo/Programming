{
 "cells": [
  {
   "cell_type": "markdown",
   "id": "8a4b4664",
   "metadata": {},
   "source": [
    "# Data types in python"
   ]
  },
  {
   "cell_type": "markdown",
   "id": "43624644",
   "metadata": {},
   "source": [
    "- Integer Data types-- int\n",
    "- Real number data type-- float\n",
    "- Charater data type-- string\n",
    "- yes/no data type-- boolean\n",
    "- Complex data types--1+7j (example)\n"
   ]
  },
  {
   "cell_type": "code",
   "execution_count": 2,
   "id": "56e1ace3",
   "metadata": {},
   "outputs": [
    {
     "name": "stdout",
     "output_type": "stream",
     "text": [
      "10\n",
      "<class 'int'>\n"
     ]
    }
   ],
   "source": [
    "# Integer data type example\n",
    "a = 10 \n",
    "print(a)\n",
    "print(type(a))\n"
   ]
  },
  {
   "cell_type": "code",
   "execution_count": 3,
   "id": "7751b2db",
   "metadata": {},
   "outputs": [
    {
     "name": "stdout",
     "output_type": "stream",
     "text": [
      "10.1\n",
      "<class 'float'>\n"
     ]
    }
   ],
   "source": [
    "# Real number data type example\n",
    "a = 10.1\n",
    "print(a)\n",
    "print(type(a))"
   ]
  },
  {
   "cell_type": "code",
   "execution_count": 4,
   "id": "4b0581a3",
   "metadata": {},
   "outputs": [
    {
     "name": "stdout",
     "output_type": "stream",
     "text": [
      "G\n",
      "<class 'str'>\n",
      "TG\n",
      "<class 'str'>\n"
     ]
    }
   ],
   "source": [
    "# Charater data type example\n",
    "# we can use \"\" or ''\n",
    "# In python single letter also consider as string \n",
    "a = \"G\"\n",
    "print(a)\n",
    "print(type(a))\n",
    "\n",
    "b = \"TG\"\n",
    "print(b)\n",
    "print(type(b))"
   ]
  },
  {
   "cell_type": "code",
   "execution_count": 5,
   "id": "f14228c8",
   "metadata": {},
   "outputs": [
    {
     "name": "stdout",
     "output_type": "stream",
     "text": [
      "False\n"
     ]
    }
   ],
   "source": [
    "# Yes or no type data example\n",
    "a = 5>6\n",
    "print(a)"
   ]
  },
  {
   "cell_type": "code",
   "execution_count": 6,
   "id": "ce0f89f6",
   "metadata": {},
   "outputs": [
    {
     "name": "stdout",
     "output_type": "stream",
     "text": [
      "True\n"
     ]
    }
   ],
   "source": [
    "a = 6>5\n",
    "print(a)"
   ]
  },
  {
   "cell_type": "code",
   "execution_count": 7,
   "id": "94e9edb4",
   "metadata": {},
   "outputs": [
    {
     "name": "stdout",
     "output_type": "stream",
     "text": [
      "(7+7j)\n",
      "<class 'complex'>\n"
     ]
    }
   ],
   "source": [
    "# Complex data type\n",
    "a = 7+7j\n",
    "print(a)\n",
    "print(type(a))"
   ]
  },
  {
   "cell_type": "code",
   "execution_count": null,
   "id": "b1d51a45",
   "metadata": {},
   "outputs": [],
   "source": []
  }
 ],
 "metadata": {
  "kernelspec": {
   "display_name": "Python 3 (ipykernel)",
   "language": "python",
   "name": "python3"
  },
  "language_info": {
   "codemirror_mode": {
    "name": "ipython",
    "version": 3
   },
   "file_extension": ".py",
   "mimetype": "text/x-python",
   "name": "python",
   "nbconvert_exporter": "python",
   "pygments_lexer": "ipython3",
   "version": "3.9.13"
  }
 },
 "nbformat": 4,
 "nbformat_minor": 5
}
