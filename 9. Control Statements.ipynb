{
 "cells": [
  {
   "cell_type": "code",
   "execution_count": 1,
   "id": "175724b6",
   "metadata": {},
   "outputs": [
    {
     "name": "stdout",
     "output_type": "stream",
     "text": [
      "0\n",
      "1\n",
      "2\n",
      "3\n",
      "4\n"
     ]
    }
   ],
   "source": [
    "# While loop \n",
    "'''In whileloop  as  long  as  the  condition  is  satisfied the  set  of  statements repeats  its  execution.\n",
    "And once  the  condition  is  false  the  control  exits  the loop and executes the rest of the code if any.'''\n",
    "\n",
    "lst = [10,20,30,40,50]\n",
    "i = 0  # initialisation of variable\n",
    "while i < 5: # confition check\n",
    "    print(i)\n",
    "    i += 1 # incrementation of i \n",
    "    \n",
    "# while loop is used when we dont know the iterations to perform"
   ]
  },
  {
   "cell_type": "code",
   "execution_count": 2,
   "id": "d487a408",
   "metadata": {},
   "outputs": [
    {
     "name": "stdout",
     "output_type": "stream",
     "text": [
      "10\n",
      "20\n",
      "30\n",
      "40\n",
      "50\n",
      "60\n"
     ]
    }
   ],
   "source": [
    "# For Loop \n",
    "lst = [10,20,30,40,50,60]\n",
    "for i in lst:\n",
    "    print(i)"
   ]
  },
  {
   "cell_type": "code",
   "execution_count": 3,
   "id": "f04d5088",
   "metadata": {},
   "outputs": [
    {
     "name": "stdout",
     "output_type": "stream",
     "text": [
      "range(0, 6)\n"
     ]
    }
   ],
   "source": [
    "# Range() syntax range(start,stop,step)\n",
    "\n",
    "print(range(6))\n"
   ]
  },
  {
   "cell_type": "code",
   "execution_count": 4,
   "id": "d1353ec1",
   "metadata": {},
   "outputs": [
    {
     "name": "stdout",
     "output_type": "stream",
     "text": [
      "[0, 1, 2, 3, 4, 5, 6, 7, 8, 9]\n"
     ]
    }
   ],
   "source": [
    "print(list(range(10)))"
   ]
  },
  {
   "cell_type": "code",
   "execution_count": 5,
   "id": "ac2cee27",
   "metadata": {},
   "outputs": [
    {
     "name": "stdout",
     "output_type": "stream",
     "text": [
      "0\n",
      "2\n",
      "4\n",
      "6\n"
     ]
    }
   ],
   "source": [
    "lst = [10,20,30,40,50,60,70,80,90,100]\n",
    "for i in range(0,7,2):\n",
    "    print(i)"
   ]
  },
  {
   "cell_type": "code",
   "execution_count": 6,
   "id": "ad4d1754",
   "metadata": {},
   "outputs": [
    {
     "name": "stdout",
     "output_type": "stream",
     "text": [
      "Balance before transations: 15500\n",
      "Balance after transation: 500\n"
     ]
    }
   ],
   "source": [
    "# example program with while loop\n",
    "\n",
    "balance = 15500\n",
    "min_balance = 500\n",
    "\n",
    "print(\"Balance before transations:\",balance)\n",
    "\n",
    "while min_balance< balance:\n",
    "    balance -=1000\n",
    "    \n",
    "print(\"Balance after transation:\", balance)"
   ]
  },
  {
   "cell_type": "code",
   "execution_count": 7,
   "id": "e7a21526",
   "metadata": {},
   "outputs": [
    {
     "name": "stdout",
     "output_type": "stream",
     "text": [
      "Balance before transations: 15500\n",
      "Balance after transation: 10500\n"
     ]
    }
   ],
   "source": [
    "# example program with for loop\n",
    "\n",
    "balance = 15500\n",
    "min_balance = 500\n",
    "print(\"Balance before transations:\",balance)\n",
    "for i in range(5):\n",
    "    balance = balance-1000\n",
    "print(\"Balance after transation:\", balance)"
   ]
  },
  {
   "cell_type": "code",
   "execution_count": null,
   "id": "ac9bd855",
   "metadata": {},
   "outputs": [],
   "source": []
  }
 ],
 "metadata": {
  "kernelspec": {
   "display_name": "Python 3 (ipykernel)",
   "language": "python",
   "name": "python3"
  },
  "language_info": {
   "codemirror_mode": {
    "name": "ipython",
    "version": 3
   },
   "file_extension": ".py",
   "mimetype": "text/x-python",
   "name": "python",
   "nbconvert_exporter": "python",
   "pygments_lexer": "ipython3",
   "version": "3.9.13"
  },
  "toc": {
   "base_numbering": 1,
   "nav_menu": {},
   "number_sections": true,
   "sideBar": true,
   "skip_h1_title": false,
   "title_cell": "Table of Contents",
   "title_sidebar": "Contents",
   "toc_cell": false,
   "toc_position": {},
   "toc_section_display": true,
   "toc_window_display": false
  }
 },
 "nbformat": 4,
 "nbformat_minor": 5
}
